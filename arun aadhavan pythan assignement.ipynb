{
 "cells": [
  {
   "cell_type": "code",
   "execution_count": 3,
   "id": "67d077f6-5b7b-484b-84a4-57d149c78b1b",
   "metadata": {},
   "outputs": [
    {
     "name": "stdin",
     "output_type": "stream",
     "text": [
      "enter a number 2\n",
      "enter a number 3\n"
     ]
    },
    {
     "name": "stdout",
     "output_type": "stream",
     "text": [
      "a is lesser than equal b: True\n"
     ]
    }
   ],
   "source": [
    "#Exercise 1: Arithmetic Operators\n",
    "a=int(input(\"enter first value\"))\n",
    "b=int(input(\"enter second value\"))\n",
    "\n",
    "add=a+b\n",
    "print(\"add:\",add)\n",
    " \n",
    "sub=a-b\n",
    "print(\"sub:\",sub)\n",
    " \n",
    "mul=a*b\n",
    "print(\"mul:\",mul)\n",
    "\n",
    "div=a/b\n",
    "print(\"div:\",div)\n",
    "\n",
    "mod=a%b\n",
    "print(\"mod:\",mod)\n",
    "\n",
    "expo=a**b #exponential\n",
    "print(\"expo:\",expo)\n",
    "\n",
    "floor=a//b\n",
    "print(\"floor:\",floor)"
   ]
  },
  {
   "cell_type": "code",
   "execution_count": 3,
   "id": "a428c479-609f-49b2-82e7-629f626b8514",
   "metadata": {},
   "outputs": [
    {
     "name": "stdin",
     "output_type": "stream",
     "text": [
      "enter a number 2\n",
      "enter a number 3\n"
     ]
    },
    {
     "name": "stdout",
     "output_type": "stream",
     "text": [
      "a is lesser than equal b: True\n"
     ]
    }
   ],
   "source": [
    "#Exercise 2: Comparison Operators\n",
    "a=int(input(\"enter a number\"))\n",
    "b=int(input(\"enter a number\"))\n",
    "#greater\n",
    "if(a>b):\n",
    "    print(\"a is greater than b:\",(a>b))\n",
    "#equal\n",
    "elif(a==b):\n",
    "    print(\"a is equal to b:\",(a==b))\n",
    "#lesser\n",
    "else:\n",
    "    print(\"a is lesser than equal b:\",(a<=b))"
   ]
  },
  {
   "cell_type": "code",
   "execution_count": 3,
   "id": "79ecb76b-edbb-4de9-8a1e-bbb666164a37",
   "metadata": {},
   "outputs": [
    {
     "name": "stdin",
     "output_type": "stream",
     "text": [
      "Enter the first boolean value (True/False):  3\n",
      "Enter the second boolean value (True/False):  3\n",
      "Enter the third boolean value (True/False):  3\n"
     ]
    },
    {
     "name": "stdout",
     "output_type": "stream",
     "text": [
      "Result of AND operation: (result_and)\n",
      "Result of OR operation: (result_or)\n",
      "Result of NOT operation on AND result:(result_not)\n"
     ]
    }
   ],
   "source": [
    "#  question 3  Logical Operators\n",
    "\n",
    "bool1 = input(\"Enter the first boolean value (True/False): \")\n",
    "bool2 = input(\"Enter the second boolean value (True/False): \")\n",
    "bool3 = input(\"Enter the third boolean value (True/False): \")\n",
    "        \n",
    "     \n",
    "result_and = bool1 and bool2 and bool3      \n",
    "result_or = bool1 or bool2 or bool3\n",
    "result_not = not (bool1 and bool2 and bool3)\n",
    "\n",
    "print(\"Result of AND operation: (result_and)\")\n",
    "print(\"Result of OR operation: (result_or)\")\n",
    "print(\"Result of NOT operation on AND result:(result_not)\")"
   ]
  },
  {
   "cell_type": "code",
   "execution_count": 3,
   "id": "e11d14f9-77ad-4068-a657-58431247b47e",
   "metadata": {},
   "outputs": [
    {
     "name": "stdin",
     "output_type": "stream",
     "text": [
      "Enter the string: arun\n"
     ]
    },
    {
     "name": "stdout",
     "output_type": "stream",
     "text": [
      "4\n",
      "a  n\n",
      "ARUN\n"
     ]
    }
   ],
   "source": [
    "#Part 2: Strings\n",
    "#Exercise 4: String Manipulation\n",
    "n=input(\"Enter the string:\")\n",
    "print(len(n))\n",
    "print(n[0],\"\",n[len(n)-1])\n",
    "n[::-1]\n",
    "if n.isupper()==True:\n",
    "  print(n.lower())\n",
    "else:\n",
    "  print(n.upper())"
   ]
  },
  {
   "cell_type": "code",
   "execution_count": 13,
   "id": "92300bd3-b687-4590-87af-1bfbb96c231f",
   "metadata": {},
   "outputs": [
    {
     "name": "stdin",
     "output_type": "stream",
     "text": [
      "enter ur name c\n",
      "enter your age 3\n"
     ]
    },
    {
     "name": "stdout",
     "output_type": "stream",
     "text": [
      "Helloc you are 3years old\n"
     ]
    }
   ],
   "source": [
    "#Exercise 5: String Formatting\n",
    "#Write a program that asks for the user's name and age, and displays the message in this format:\n",
    "z=input(\"enter ur name\")\n",
    "x=input(\"enter your age\")\n",
    "print(\"Hello\"+z, \"you are \" + x + \"years old\")# to concatenate the a with hello we use +# to concatenate the b with following print statment we use +"
   ]
  },
  {
   "cell_type": "code",
   "execution_count": 17,
   "id": "6e3e6c15-f6ce-4239-95a0-8e05efa6da2a",
   "metadata": {},
   "outputs": [
    {
     "name": "stdin",
     "output_type": "stream",
     "text": [
      "Enter a sentence:  charab is\n",
      "Enter a word to search for:  is\n"
     ]
    },
    {
     "name": "stdout",
     "output_type": "stream",
     "text": [
      "is is found in the sentence.\n"
     ]
    }
   ],
   "source": [
    "#Exercise 6: Substring Search\n",
    "#Write a Python program that:\n",
    "#1. Asks for a sentence input from the user.\n",
    "#2. Asks for a word to search in the sentence.\n",
    "#3. Outputs whether the word exists in the sentence and, if it does, at which position (index).\n",
    "\n",
    "s = input(\"Enter a sentence: \")\n",
    "w = input(\"Enter a word to search for: \")\n",
    "\n",
    "if w in s:\n",
    "    print(w,\"is found in the sentence.\")\n",
    "else\n",
    "    print(w, \"is not found in the sentence.\")\n"
   ]
  },
  {
   "cell_type": "code",
   "execution_count": 19,
   "id": "a2d176f0-895e-4c6f-b2f3-3909435ed16f",
   "metadata": {},
   "outputs": [
    {
     "name": "stdin",
     "output_type": "stream",
     "text": [
      "Enter a number:  5\n",
      "Enter a number:  2\n",
      "Enter a number:  5\n",
      "Enter a number:  5\n",
      "Enter a number:  5\n"
     ]
    },
    {
     "name": "stdout",
     "output_type": "stream",
     "text": [
      "Sum: 22\n",
      "Largest: 5\n",
      "Smallest: 2\n"
     ]
    }
   ],
   "source": [
    "#Part 3: Lists\n",
    "#Exercise 7: List Operations\n",
    "#Write a Python program that:\n",
    "#1. Creates a list of 5 numbers (input from the user).\n",
    "#2. Displays the sum of all the numbers in the list.\n",
    "#3. Finds the largest and smallest number in the list.\n",
    "\n",
    "\n",
    "numbers = [int(input(\"Enter a number: \")) for _ in range(5)]\n",
    "print(\"Sum:\", sum(numbers))\n",
    "print(\"Largest:\", max(numbers))\n",
    "print(\"Smallest:\", min(numbers))\n"
   ]
  },
  {
   "cell_type": "code",
   "execution_count": 21,
   "id": "c5aa57ef-c136-41b0-b4cd-02813ae7daef",
   "metadata": {},
   "outputs": [
    {
     "name": "stdout",
     "output_type": "stream",
     "text": [
      "['apple', 'papaya', 'lemon', 'mango', 'grapes']\n"
     ]
    }
   ],
   "source": [
    "#Exercise 8: List Manipulation\n",
    "#1. Create a list of 5 of your favorite fruits.\n",
    "#2. Perform the following:\n",
    "#o Add one more fruit to the list.\n",
    "#o Remove the second fruit from the list.\n",
    "#o Print the updated list.\n",
    "a=['apple','papaya','banana','lemon','mango']\n",
    "\n",
    "a.insert(5,'grapes')\n",
    "a.remove('banana')\n",
    "print(a)\n"
   ]
  },
  {
   "cell_type": "code",
   "execution_count": 23,
   "id": "02898c68-1d02-4a37-9d54-ce9cd7f64807",
   "metadata": {},
   "outputs": [
    {
     "name": "stdin",
     "output_type": "stream",
     "text": [
      "Enter a number:  5\n",
      "Enter a number:  6\n",
      "Enter a number:  3\n",
      "Enter a number:  9\n",
      "Enter a number:  6\n"
     ]
    },
    {
     "name": "stdout",
     "output_type": "stream",
     "text": [
      "Ascending: [3, 5, 6, 6, 9]\n",
      "Descending: [9, 6, 6, 5, 3]\n"
     ]
    }
   ],
   "source": [
    "#Exercise 9: Sorting a List\n",
    "#Write a Python program that:\n",
    "#1. Asks the user to input a list of 5 numbers.\n",
    "#2. Sorts the list in ascending order and displays it.\n",
    "#3. Sorts the list in descending order and displays it.\n",
    "numbers = [int(input(\"Enter a number: \")) for _ in range(5)]\n",
    "print(\"Ascending:\", sorted(numbers))\n",
    "print(\"Descending:\", sorted(numbers, reverse=True))\n"
   ]
  },
  {
   "cell_type": "code",
   "execution_count": 25,
   "id": "53ed49de-802a-403e-b463-99a39f6483c8",
   "metadata": {},
   "outputs": [
    {
     "name": "stdout",
     "output_type": "stream",
     "text": [
      "First 5 Numbers: [1, 2, 3, 4, 5]\n",
      "Last 5 Numbbers: [6, 7, 8, 9, 10]\n",
      "Numbers From index 2 to index 7: [3, 4, 5, 6, 7, 8]\n"
     ]
    }
   ],
   "source": [
    "#Exercise 10: List Slicing\n",
    "#Given the list numbers = [1, 2, 3, 4, 5, 6, 7, 8, 9, 10], perform the following:\n",
    "#1. Print the first 5 elements.\n",
    "#2. Print the last 5 elements.\n",
    "#3. Print the elements from index 2 to index 7.\n",
    "\n",
    "numbers = [1, 2, 3, 4, 5, 6, 7, 8, 9, 10]\n",
    "q= numbers[:5]\n",
    "print(\"First 5 Numbers:\",q)\n",
    "\n",
    "w= numbers[-5:]\n",
    "print(\"Last 5 Numbbers:\",w)\n",
    "\n",
    "e= numbers[2:8]  \n",
    "print(\"Numbers From index 2 to index 7:\",e)\n"
   ]
  },
  {
   "cell_type": "code",
   "execution_count": 27,
   "id": "78ec9346-f8a7-4c47-8331-c292ed71bac4",
   "metadata": {},
   "outputs": [
    {
     "name": "stdin",
     "output_type": "stream",
     "text": [
      "Enter the number of students: 3\n",
      "Enter the student name: charan\n"
     ]
    },
    {
     "name": "stdout",
     "output_type": "stream",
     "text": [
      "For subject 1\n"
     ]
    },
    {
     "name": "stdin",
     "output_type": "stream",
     "text": [
      "Enter the scores in the respective subjects:= 90\n"
     ]
    },
    {
     "name": "stdout",
     "output_type": "stream",
     "text": [
      "For subject 2\n"
     ]
    },
    {
     "name": "stdin",
     "output_type": "stream",
     "text": [
      "Enter the scores in the respective subjects:= 30\n"
     ]
    },
    {
     "name": "stdout",
     "output_type": "stream",
     "text": [
      "For subject 3\n"
     ]
    },
    {
     "name": "stdin",
     "output_type": "stream",
     "text": [
      "Enter the scores in the respective subjects:= 80\n"
     ]
    },
    {
     "name": "stdout",
     "output_type": "stream",
     "text": [
      "Student 1 average is:= 66.66666666666667\n"
     ]
    },
    {
     "name": "stdin",
     "output_type": "stream",
     "text": [
      "Enter the student name: ram\n"
     ]
    },
    {
     "name": "stdout",
     "output_type": "stream",
     "text": [
      "For subject 1\n"
     ]
    },
    {
     "name": "stdin",
     "output_type": "stream",
     "text": [
      "Enter the scores in the respective subjects:= 99\n"
     ]
    },
    {
     "name": "stdout",
     "output_type": "stream",
     "text": [
      "For subject 2\n"
     ]
    },
    {
     "name": "stdin",
     "output_type": "stream",
     "text": [
      "Enter the scores in the respective subjects:= 85\n"
     ]
    },
    {
     "name": "stdout",
     "output_type": "stream",
     "text": [
      "For subject 3\n"
     ]
    },
    {
     "name": "stdin",
     "output_type": "stream",
     "text": [
      "Enter the scores in the respective subjects:= 33\n"
     ]
    },
    {
     "name": "stdout",
     "output_type": "stream",
     "text": [
      "Student 2 average is:= 72.33333333333333\n"
     ]
    },
    {
     "name": "stdin",
     "output_type": "stream",
     "text": [
      "Enter the student name: shyam\n"
     ]
    },
    {
     "name": "stdout",
     "output_type": "stream",
     "text": [
      "For subject 1\n"
     ]
    },
    {
     "name": "stdin",
     "output_type": "stream",
     "text": [
      "Enter the scores in the respective subjects:= 33\n"
     ]
    },
    {
     "name": "stdout",
     "output_type": "stream",
     "text": [
      "For subject 2\n"
     ]
    },
    {
     "name": "stdin",
     "output_type": "stream",
     "text": [
      "Enter the scores in the respective subjects:= 56\n"
     ]
    },
    {
     "name": "stdout",
     "output_type": "stream",
     "text": [
      "For subject 3\n"
     ]
    },
    {
     "name": "stdin",
     "output_type": "stream",
     "text": [
      "Enter the scores in the respective subjects:= 68\n"
     ]
    },
    {
     "name": "stdout",
     "output_type": "stream",
     "text": [
      "Student 3 average is:= 52.333333333333336\n"
     ]
    }
   ],
   "source": [
    "#Bonus Challenge\n",
    "#Exercise 11: Nested List\n",
    "#Write a Python program that:\n",
    "#1. Takes input of 3 students' names and their respective scores in 3 subjects.\n",
    "#2. Stores them in a nested list.\n",
    "#3. Prints each student's name and their average score.\n",
    "\n",
    "n = int(input(\"Enter the number of students: \"))\n",
    "students = []\n",
    "\n",
    "for i in range(1, n + 1):\n",
    "    name = input(f\"Enter the name of student {i}: \")\n",
    "    scores = []\n",
    "    \n",
    "    for j in range(1, 4):  # Assuming there are 3 subjects\n",
    "        score = int(input(f\"Enter the score for subject {j}: \"))\n",
    "        scores.append(score)\n",
    "    \n",
    "    average = sum(scores) / len(scores)\n",
    "    students.append((name, average)) \n",
    "\n",
    "for student in students:\n",
    "    print(f\"Student: {student[0]}, Average score: {student[1]:.2f}\")\n"
   ]
  },
  {
   "cell_type": "code",
   "execution_count": null,
   "id": "f28760a8-662e-421e-a662-92703c67af85",
   "metadata": {},
   "outputs": [],
   "source": []
  }
 ],
 "metadata": {
  "kernelspec": {
   "display_name": "Python 3 (ipykernel)",
   "language": "python",
   "name": "python3"
  },
  "language_info": {
   "codemirror_mode": {
    "name": "ipython",
    "version": 3
   },
   "file_extension": ".py",
   "mimetype": "text/x-python",
   "name": "python",
   "nbconvert_exporter": "python",
   "pygments_lexer": "ipython3",
   "version": "3.12.4"
  }
 },
 "nbformat": 4,
 "nbformat_minor": 5
}
