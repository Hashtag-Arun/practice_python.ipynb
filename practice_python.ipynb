{
 "cells": [
  {
   "cell_type": "code",
   "execution_count": 1,
   "metadata": {},
   "outputs": [
    {
     "name": "stdout",
     "output_type": "stream",
     "text": [
      "uwyfedlAUYGFD is.not.a.vowel.\n"
     ]
    }
   ],
   "source": [
    "vow = \"aeiouAEIOU\"\n",
    "\n",
    "def is_vowel(char):\n",
    "    if len(char) == 1 and char.isalpha():\n",
    "        return char in vow\n",
    "    else:\n",
    "        return False\n",
    "\n",
    "char = input(\"Enter a character: \")\n",
    "\n",
    "if is_vowel(char):\n",
    "    print(f\"{char} is a vowel.\")\n",
    "else:\n",
    "    print(f\"{char} is.not.a.vowel.\")"
   ]
  },
  {
   "cell_type": "code",
   "execution_count": 3,
   "metadata": {},
   "outputs": [
    {
     "name": "stdout",
     "output_type": "stream",
     "text": [
      "NOT WEIRD\n"
     ]
    }
   ],
   "source": [
    "n=int(input())\n",
    "if n%2==1:\n",
    "    print(\"WEIRD\")\n",
    "elif n % 2 == 0:\n",
    "        if 2 <= n <= 5:\n",
    "            print(\"NOT WEIRD\")\n",
    "        elif 6 <= n <= 20:\n",
    "            print(\"WEIRD\")\n",
    "        elif n > 20:\n",
    "            print(\"NOT WEIRD\")"
   ]
  },
  {
   "cell_type": "code",
   "execution_count": 5,
   "metadata": {},
   "outputs": [
    {
     "name": "stdout",
     "output_type": "stream",
     "text": [
      "283565\n"
     ]
    }
   ],
   "source": [
    "n=int(input())\n",
    "if n<=5:\n",
    "    print(n*2)\n",
    "elif 6 <= n <= 10:\n",
    "    print(n*3)\n",
    "elif 11 <= n <= 15:\n",
    "    print(n*4)\n",
    "else:\n",
    "    print(n*5)"
   ]
  },
  {
   "cell_type": "code",
   "execution_count": null,
   "metadata": {},
   "outputs": [],
   "source": []
  }
 ],
 "metadata": {
  "kernelspec": {
   "display_name": "Python 3",
   "language": "python",
   "name": "python3"
  },
  "language_info": {
   "codemirror_mode": {
    "name": "ipython",
    "version": 3
   },
   "file_extension": ".py",
   "mimetype": "text/x-python",
   "name": "python",
   "nbconvert_exporter": "python",
   "pygments_lexer": "ipython3",
   "version": "3.12.6"
  }
 },
 "nbformat": 4,
 "nbformat_minor": 2
}
